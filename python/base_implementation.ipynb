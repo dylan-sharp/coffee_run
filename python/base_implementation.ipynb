{
 "cells": [
  {
   "cell_type": "code",
   "execution_count": 1,
   "metadata": {},
   "outputs": [],
   "source": [
    "from dataclasses import dataclass\n",
    "from datetime import datetime\n",
    "from uuid import uuid4\n",
    "\n",
    "@dataclass\n",
    "class User:\n",
    "    name: str\n",
    "    id: str = None\n",
    "\n",
    "    # auto generate user id if one wasn't provided\n",
    "    def __post_init__(self):\n",
    "        if self.id is None:\n",
    "            self.id = str(uuid4())\n",
    "\n",
    "@dataclass\n",
    "class OrderItem:\n",
    "    name: str\n",
    "    cost: float\n",
    "    user: User\n",
    "\n",
    "@dataclass\n",
    "class Order:\n",
    "    orderTime: datetime\n",
    "    payer: User\n",
    "    items: list[OrderItem]\n",
    "\n",
    "    @property\n",
    "    def order_cost(self):\n",
    "        return sum([i.cost for i in self.items])\n"
   ]
  },
  {
   "cell_type": "code",
   "execution_count": 2,
   "metadata": {},
   "outputs": [],
   "source": [
    "bob = User('Bob')\n",
    "jeremy = User('Jeremy')\n",
    "\n",
    "orders = [\n",
    "    Order(\n",
    "        datetime.now(),\n",
    "        bob,\n",
    "        [\n",
    "            OrderItem('cappuccino', 3.5, bob),\n",
    "            OrderItem('coffee', 2.5, jeremy)\n",
    "        ]\n",
    "    ),\n",
    "    Order(\n",
    "        datetime.now(),\n",
    "        jeremy,\n",
    "        [\n",
    "            OrderItem('cappuccino', 1.5, bob),\n",
    "            OrderItem('coffee', 2.5, jeremy)\n",
    "        ]\n",
    "    )\n",
    "]"
   ]
  },
  {
   "cell_type": "code",
   "execution_count": 6,
   "metadata": {},
   "outputs": [],
   "source": [
    "from collections import defaultdict\n",
    "\n",
    "### Simple function that returns who pays next by finding who owes the most to the group\n",
    "###  a.k.a. who has the highest debt\n",
    "def get_next_payer(orders: list[Order]):\n",
    "    member_debt = defaultdict(int)\n",
    "\n",
    "    # Loop over orders to calculate member debt\n",
    "    for order in orders:\n",
    "        # process credit to payer of order\n",
    "        member_debt[order.payer.id] -= order.order_cost\n",
    "\n",
    "        # process debt for others on order\n",
    "        for item in order.items:\n",
    "            member_debt[item.user.id] += item.cost\n",
    "    \n",
    "    # now select the member with the highest debt to pay next\n",
    "    return sorted(member_debt.items(), key=lambda i: i[1],  reverse=True)[0][0]"
   ]
  },
  {
   "cell_type": "code",
   "execution_count": 7,
   "metadata": {},
   "outputs": [
    {
     "name": "stdout",
     "output_type": "stream",
     "text": [
      "User(name='Bob', id='2569bd53-c663-431f-9730-7446ffe9182a')\n",
      "User(name='Jeremy', id='5815596c-2d1b-4bf4-837b-51944a48abfe')\n"
     ]
    }
   ],
   "source": [
    "print(bob)\n",
    "print(jeremy)"
   ]
  },
  {
   "cell_type": "code",
   "execution_count": 8,
   "metadata": {},
   "outputs": [
    {
     "data": {
      "text/plain": [
       "'5815596c-2d1b-4bf4-837b-51944a48abfe'"
      ]
     },
     "execution_count": 8,
     "metadata": {},
     "output_type": "execute_result"
    }
   ],
   "source": [
    "get_next_payer(orders)"
   ]
  },
  {
   "cell_type": "markdown",
   "metadata": {},
   "source": [
    "- Bob paid for the first order, so Jeremy owes \\$2.5\n",
    "- Jermey paid for the second order.  Bob's item only cost \\$1.5, so Jeremey still owes \\$1 (\\$2.5 - \\$1.5)\n",
    "- In both orders the payer pays for their own item.\n",
    "\n",
    "We should expect that Jeremy still owes \\$1 and should pay next since Bob owes \\$0 debt.\n",
    "\n",
    "`get_next_payer` returns Jeremy's id, which is correct since he owes the most debt\n"
   ]
  },
  {
   "cell_type": "markdown",
   "metadata": {},
   "source": []
  }
 ],
 "metadata": {
  "kernelspec": {
   "display_name": ".venv",
   "language": "python",
   "name": "python3"
  },
  "language_info": {
   "codemirror_mode": {
    "name": "ipython",
    "version": 3
   },
   "file_extension": ".py",
   "mimetype": "text/x-python",
   "name": "python",
   "nbconvert_exporter": "python",
   "pygments_lexer": "ipython3",
   "version": "3.11.7"
  }
 },
 "nbformat": 4,
 "nbformat_minor": 2
}

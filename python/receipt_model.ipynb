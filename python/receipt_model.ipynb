{
 "cells": [
  {
   "cell_type": "markdown",
   "metadata": {},
   "source": [
    "# Receipt Item Extraction\n",
    "Below is a simple example of using Hugging Face's serverless Inferece API on the following model: https://huggingface.co/AdamCodd/donut-receipts-extract\n",
    "\n",
    "This can be hosted ourselves for processing reciept's into structure item data.  Alternative additional work can be done to try to inference the model on device with lower quantization.  Additional training pipelines could also be set up to improve the model over time base off customer receipt submissions or alternative data sources."
   ]
  },
  {
   "cell_type": "code",
   "execution_count": 9,
   "metadata": {},
   "outputs": [],
   "source": [
    "import requests\n",
    "\n",
    "API_URL = \"https://api-inference.huggingface.co/models/AdamCodd/donut-receipts-extract\"\n",
    "headers = {\"Authorization\": \"Bearer <TOKEN_HERE>\"}\n",
    "\n",
    "def query(filename):\n",
    "    with open(filename, \"rb\") as f:\n",
    "        data = f.read()\n",
    "    response = requests.post(API_URL, headers=headers, data=data)\n",
    "    return response.json()\n",
    "\n",
    "output = query(\"coffee-chain-receipt-sample.jpg\")"
   ]
  },
  {
   "cell_type": "code",
   "execution_count": 10,
   "metadata": {},
   "outputs": [
    {
     "data": {
      "text/plain": [
       "[{'generated_text': '<s_receipt><s_store_name> Coffee House</s_store_name><s_store_addr> 325 W 49th Austin, TX</s_store_addr><s_phone> (333)321-3333</s_phone><s_date> 07/17/2017</s_date><s_time> 09:13 AM</s_time><s_subtotal> $4.78</s_subtotal><s_svc></s_svc><s_tax> $0.00</s_tax><s_total> $4.78</s_total><s_tips></s_tips><s_discount></s_discount><s_line_items><s_item_key></s_item_key><s_item_name> Americano</s_item_name><s_item_value> $3.78</s_item_value><s_item_quantity> 1</s_item_quantity><sep/><s_item_key></s_item_key><s_item_name> Steamed Milk</s_item_name><s_item_value> $1.00</s_item_value><s_item_quantity> 1</s_item_quantity></s_line_items>'}]"
      ]
     },
     "execution_count": 10,
     "metadata": {},
     "output_type": "execute_result"
    }
   ],
   "source": [
    "output"
   ]
  },
  {
   "cell_type": "code",
   "execution_count": 1,
   "metadata": {},
   "outputs": [],
   "source": [
    "# Caching to avoid having to inference sample receipt again\n",
    "output = [{'generated_text': '<s_receipt><s_store_name> Coffee House</s_store_name><s_store_addr> 325 W 49th Austin, TX</s_store_addr><s_phone> (333)321-3333</s_phone><s_date> 07/17/2017</s_date><s_time> 09:13 AM</s_time><s_subtotal> $4.78</s_subtotal><s_svc></s_svc><s_tax> $0.00</s_tax><s_total> $4.78</s_total><s_tips></s_tips><s_discount></s_discount><s_line_items><s_item_key></s_item_key><s_item_name> Americano</s_item_name><s_item_value> $3.78</s_item_value><s_item_quantity> 1</s_item_quantity><sep/><s_item_key></s_item_key><s_item_name> Steamed Milk</s_item_name><s_item_value> $1.00</s_item_value><s_item_quantity> 1</s_item_quantity></s_line_items>'}]\n"
   ]
  },
  {
   "cell_type": "code",
   "execution_count": 4,
   "metadata": {},
   "outputs": [
    {
     "name": "stderr",
     "output_type": "stream",
     "text": [
      "/Users/dsharp/Development/coffee_run/python/.venv/lib/python3.12/site-packages/huggingface_hub/file_download.py:1132: FutureWarning: `resume_download` is deprecated and will be removed in version 1.0.0. Downloads always resume when possible. If you want to force a new download, use `force_download=True`.\n",
      "  warnings.warn(\n",
      "Special tokens have been added in the vocabulary, make sure the associated word embeddings are fine-tuned or trained.\n"
     ]
    }
   ],
   "source": [
    "from transformers import DonutProcessor\n",
    "import re\n",
    "processor = DonutProcessor.from_pretrained(\"AdamCodd/donut-receipts-extract\")\n",
    "\n",
    "# Decode generated output\n",
    "decoded_text = output[0]['generated_text']\n",
    "decoded_text = decoded_text.replace(processor.tokenizer.eos_token, \"\").replace(processor.tokenizer.pad_token, \"\")\n",
    "decoded_text = re.sub(r\"<.*?>\", \"\", decoded_text, count=1).strip()  # remove first task start token\n",
    "decoded_text = processor.token2json(decoded_text)"
   ]
  },
  {
   "cell_type": "code",
   "execution_count": 5,
   "metadata": {},
   "outputs": [
    {
     "data": {
      "text/plain": [
       "{'store_name': 'Coffee House',\n",
       " 'store_addr': '325 W 49th Austin, TX',\n",
       " 'phone': '(333)321-3333',\n",
       " 'date': '07/17/2017',\n",
       " 'time': '09:13 AM',\n",
       " 'subtotal': '$4.78',\n",
       " 'svc': '',\n",
       " 'tax': '$0.00',\n",
       " 'total': '$4.78',\n",
       " 'tips': '',\n",
       " 'discount': '',\n",
       " 'line_items': [{'item_key': '',\n",
       "   'item_name': 'Americano',\n",
       "   'item_value': '$3.78',\n",
       "   'item_quantity': '1'},\n",
       "  {'item_key': '',\n",
       "   'item_name': 'Steamed Milk',\n",
       "   'item_value': '$1.00',\n",
       "   'item_quantity': '1'}]}"
      ]
     },
     "execution_count": 5,
     "metadata": {},
     "output_type": "execute_result"
    }
   ],
   "source": [
    "decoded_text"
   ]
  },
  {
   "cell_type": "code",
   "execution_count": 6,
   "metadata": {},
   "outputs": [
    {
     "data": {
      "text/plain": [
       "[{'item_key': '',\n",
       "  'item_name': 'Americano',\n",
       "  'item_value': '$3.78',\n",
       "  'item_quantity': '1'},\n",
       " {'item_key': '',\n",
       "  'item_name': 'Steamed Milk',\n",
       "  'item_value': '$1.00',\n",
       "  'item_quantity': '1'}]"
      ]
     },
     "execution_count": 6,
     "metadata": {},
     "output_type": "execute_result"
    }
   ],
   "source": [
    "# Can use this to auto populate in flutter app\n",
    "decoded_text['line_items']"
   ]
  },
  {
   "cell_type": "code",
   "execution_count": 7,
   "metadata": {},
   "outputs": [],
   "source": [
    "!pip freeze > requirements.txt"
   ]
  },
  {
   "cell_type": "code",
   "execution_count": null,
   "metadata": {},
   "outputs": [],
   "source": []
  }
 ],
 "metadata": {
  "kernelspec": {
   "display_name": ".venv",
   "language": "python",
   "name": "python3"
  },
  "language_info": {
   "codemirror_mode": {
    "name": "ipython",
    "version": 3
   },
   "file_extension": ".py",
   "mimetype": "text/x-python",
   "name": "python",
   "nbconvert_exporter": "python",
   "pygments_lexer": "ipython3",
   "version": "3.12.3"
  }
 },
 "nbformat": 4,
 "nbformat_minor": 2
}
